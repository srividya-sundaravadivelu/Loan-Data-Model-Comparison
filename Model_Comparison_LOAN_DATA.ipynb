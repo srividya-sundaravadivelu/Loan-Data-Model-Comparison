{
 "cells": [
  {
   "cell_type": "code",
   "execution_count": 1,
   "id": "4338dcf0",
   "metadata": {},
   "outputs": [],
   "source": [
    "import pandas as pd\n",
    "import seaborn as sns\n",
    "from sklearn.model_selection import train_test_split\n",
    "from sklearn.linear_model import LogisticRegression\n",
    "from sklearn.metrics import classification_report, confusion_matrix, accuracy_score"
   ]
  },
  {
   "cell_type": "code",
   "execution_count": 2,
   "id": "238c5f22",
   "metadata": {},
   "outputs": [],
   "source": [
    "df = pd.read_csv('Loan_data.csv')"
   ]
  },
  {
   "cell_type": "code",
   "execution_count": 3,
   "id": "722a3f72",
   "metadata": {},
   "outputs": [
    {
     "data": {
      "text/plain": [
       "Index(['OBS.', 'CHK_ACCT', 'DURATION', 'HISTORY', 'CAR', 'FURNITURE',\n",
       "       'RADIO.TV', 'EDUCATION', 'RETRAINING', 'AMOUNT', 'SAV_ACCT',\n",
       "       'EMPLOYMENT', 'INSTALL_RATE', 'MaritalStatus', 'CO.APPLICANT',\n",
       "       'GUARANTOR', 'PRESENT_RESIDENT', 'REAL_ESTATE', 'PROP_UNKN_NONE', 'AGE',\n",
       "       'OTHER_INSTALL', 'RENT', 'OWN_RES', 'NUM_CREDITS', 'JOB',\n",
       "       'NUM_DEPENDENTS', 'TELEPHONE', 'FOREIGN', 'DEFAULT'],\n",
       "      dtype='object')"
      ]
     },
     "execution_count": 3,
     "metadata": {},
     "output_type": "execute_result"
    }
   ],
   "source": [
    "df.columns"
   ]
  },
  {
   "cell_type": "code",
   "execution_count": 4,
   "id": "00805210",
   "metadata": {},
   "outputs": [
    {
     "data": {
      "text/html": [
       "<div>\n",
       "<style scoped>\n",
       "    .dataframe tbody tr th:only-of-type {\n",
       "        vertical-align: middle;\n",
       "    }\n",
       "\n",
       "    .dataframe tbody tr th {\n",
       "        vertical-align: top;\n",
       "    }\n",
       "\n",
       "    .dataframe thead th {\n",
       "        text-align: right;\n",
       "    }\n",
       "</style>\n",
       "<table border=\"1\" class=\"dataframe\">\n",
       "  <thead>\n",
       "    <tr style=\"text-align: right;\">\n",
       "      <th></th>\n",
       "      <th>OBS.</th>\n",
       "      <th>CHK_ACCT</th>\n",
       "      <th>DURATION</th>\n",
       "      <th>HISTORY</th>\n",
       "      <th>CAR</th>\n",
       "      <th>FURNITURE</th>\n",
       "      <th>RADIO.TV</th>\n",
       "      <th>EDUCATION</th>\n",
       "      <th>RETRAINING</th>\n",
       "      <th>AMOUNT</th>\n",
       "      <th>...</th>\n",
       "      <th>AGE</th>\n",
       "      <th>OTHER_INSTALL</th>\n",
       "      <th>RENT</th>\n",
       "      <th>OWN_RES</th>\n",
       "      <th>NUM_CREDITS</th>\n",
       "      <th>JOB</th>\n",
       "      <th>NUM_DEPENDENTS</th>\n",
       "      <th>TELEPHONE</th>\n",
       "      <th>FOREIGN</th>\n",
       "      <th>DEFAULT</th>\n",
       "    </tr>\n",
       "  </thead>\n",
       "  <tbody>\n",
       "    <tr>\n",
       "      <th>0</th>\n",
       "      <td>1</td>\n",
       "      <td>0</td>\n",
       "      <td>6.0</td>\n",
       "      <td>4</td>\n",
       "      <td>UsedCar</td>\n",
       "      <td>0</td>\n",
       "      <td>1</td>\n",
       "      <td>0</td>\n",
       "      <td>0</td>\n",
       "      <td>1169.0</td>\n",
       "      <td>...</td>\n",
       "      <td>67.0</td>\n",
       "      <td>0</td>\n",
       "      <td>0</td>\n",
       "      <td>1</td>\n",
       "      <td>2</td>\n",
       "      <td>2</td>\n",
       "      <td>1</td>\n",
       "      <td>1</td>\n",
       "      <td>0</td>\n",
       "      <td>1</td>\n",
       "    </tr>\n",
       "    <tr>\n",
       "      <th>1</th>\n",
       "      <td>2</td>\n",
       "      <td>1</td>\n",
       "      <td>48.0</td>\n",
       "      <td>2</td>\n",
       "      <td>UsedCar</td>\n",
       "      <td>0</td>\n",
       "      <td>1</td>\n",
       "      <td>0</td>\n",
       "      <td>0</td>\n",
       "      <td>5951.0</td>\n",
       "      <td>...</td>\n",
       "      <td>22.0</td>\n",
       "      <td>0</td>\n",
       "      <td>0</td>\n",
       "      <td>1</td>\n",
       "      <td>1</td>\n",
       "      <td>2</td>\n",
       "      <td>1</td>\n",
       "      <td>0</td>\n",
       "      <td>0</td>\n",
       "      <td>0</td>\n",
       "    </tr>\n",
       "    <tr>\n",
       "      <th>2</th>\n",
       "      <td>3</td>\n",
       "      <td>3</td>\n",
       "      <td>12.0</td>\n",
       "      <td>4</td>\n",
       "      <td>UsedCar</td>\n",
       "      <td>0</td>\n",
       "      <td>0</td>\n",
       "      <td>1</td>\n",
       "      <td>0</td>\n",
       "      <td>2096.0</td>\n",
       "      <td>...</td>\n",
       "      <td>49.0</td>\n",
       "      <td>0</td>\n",
       "      <td>0</td>\n",
       "      <td>1</td>\n",
       "      <td>1</td>\n",
       "      <td>1</td>\n",
       "      <td>2</td>\n",
       "      <td>0</td>\n",
       "      <td>0</td>\n",
       "      <td>1</td>\n",
       "    </tr>\n",
       "    <tr>\n",
       "      <th>3</th>\n",
       "      <td>4</td>\n",
       "      <td>0</td>\n",
       "      <td>42.0</td>\n",
       "      <td>2</td>\n",
       "      <td>UsedCar</td>\n",
       "      <td>1</td>\n",
       "      <td>0</td>\n",
       "      <td>0</td>\n",
       "      <td>0</td>\n",
       "      <td>7882.0</td>\n",
       "      <td>...</td>\n",
       "      <td>45.0</td>\n",
       "      <td>0</td>\n",
       "      <td>0</td>\n",
       "      <td>0</td>\n",
       "      <td>1</td>\n",
       "      <td>2</td>\n",
       "      <td>2</td>\n",
       "      <td>0</td>\n",
       "      <td>0</td>\n",
       "      <td>1</td>\n",
       "    </tr>\n",
       "    <tr>\n",
       "      <th>4</th>\n",
       "      <td>5</td>\n",
       "      <td>0</td>\n",
       "      <td>24.0</td>\n",
       "      <td>3</td>\n",
       "      <td>NewCar</td>\n",
       "      <td>0</td>\n",
       "      <td>0</td>\n",
       "      <td>0</td>\n",
       "      <td>0</td>\n",
       "      <td>4870.0</td>\n",
       "      <td>...</td>\n",
       "      <td>53.0</td>\n",
       "      <td>0</td>\n",
       "      <td>0</td>\n",
       "      <td>0</td>\n",
       "      <td>2</td>\n",
       "      <td>2</td>\n",
       "      <td>2</td>\n",
       "      <td>0</td>\n",
       "      <td>0</td>\n",
       "      <td>0</td>\n",
       "    </tr>\n",
       "  </tbody>\n",
       "</table>\n",
       "<p>5 rows × 29 columns</p>\n",
       "</div>"
      ],
      "text/plain": [
       "   OBS.  CHK_ACCT  DURATION  HISTORY      CAR  FURNITURE  RADIO.TV  EDUCATION  \\\n",
       "0     1         0       6.0        4  UsedCar          0         1          0   \n",
       "1     2         1      48.0        2  UsedCar          0         1          0   \n",
       "2     3         3      12.0        4  UsedCar          0         0          1   \n",
       "3     4         0      42.0        2  UsedCar          1         0          0   \n",
       "4     5         0      24.0        3   NewCar          0         0          0   \n",
       "\n",
       "   RETRAINING  AMOUNT  ...   AGE  OTHER_INSTALL  RENT OWN_RES  NUM_CREDITS  \\\n",
       "0           0  1169.0  ...  67.0              0     0       1            2   \n",
       "1           0  5951.0  ...  22.0              0     0       1            1   \n",
       "2           0  2096.0  ...  49.0              0     0       1            1   \n",
       "3           0  7882.0  ...  45.0              0     0       0            1   \n",
       "4           0  4870.0  ...  53.0              0     0       0            2   \n",
       "\n",
       "   JOB  NUM_DEPENDENTS  TELEPHONE  FOREIGN  DEFAULT  \n",
       "0    2               1          1        0        1  \n",
       "1    2               1          0        0        0  \n",
       "2    1               2          0        0        1  \n",
       "3    2               2          0        0        1  \n",
       "4    2               2          0        0        0  \n",
       "\n",
       "[5 rows x 29 columns]"
      ]
     },
     "execution_count": 4,
     "metadata": {},
     "output_type": "execute_result"
    }
   ],
   "source": [
    "df.head()"
   ]
  },
  {
   "cell_type": "code",
   "execution_count": 5,
   "id": "7b32bbc1",
   "metadata": {},
   "outputs": [
    {
     "data": {
      "text/plain": [
       "1    700\n",
       "0    300\n",
       "Name: DEFAULT, dtype: int64"
      ]
     },
     "execution_count": 5,
     "metadata": {},
     "output_type": "execute_result"
    }
   ],
   "source": [
    "df['DEFAULT'].value_counts()"
   ]
  },
  {
   "cell_type": "code",
   "execution_count": 6,
   "id": "c97cb950",
   "metadata": {},
   "outputs": [],
   "source": [
    "df['New_DEFAULT'] = 1 - df['DEFAULT']"
   ]
  },
  {
   "cell_type": "code",
   "execution_count": 7,
   "id": "a9342f61",
   "metadata": {},
   "outputs": [
    {
     "data": {
      "text/html": [
       "<div>\n",
       "<style scoped>\n",
       "    .dataframe tbody tr th:only-of-type {\n",
       "        vertical-align: middle;\n",
       "    }\n",
       "\n",
       "    .dataframe tbody tr th {\n",
       "        vertical-align: top;\n",
       "    }\n",
       "\n",
       "    .dataframe thead th {\n",
       "        text-align: right;\n",
       "    }\n",
       "</style>\n",
       "<table border=\"1\" class=\"dataframe\">\n",
       "  <thead>\n",
       "    <tr style=\"text-align: right;\">\n",
       "      <th></th>\n",
       "      <th>OBS.</th>\n",
       "      <th>CHK_ACCT</th>\n",
       "      <th>DURATION</th>\n",
       "      <th>HISTORY</th>\n",
       "      <th>CAR</th>\n",
       "      <th>FURNITURE</th>\n",
       "      <th>RADIO.TV</th>\n",
       "      <th>EDUCATION</th>\n",
       "      <th>RETRAINING</th>\n",
       "      <th>AMOUNT</th>\n",
       "      <th>...</th>\n",
       "      <th>OTHER_INSTALL</th>\n",
       "      <th>RENT</th>\n",
       "      <th>OWN_RES</th>\n",
       "      <th>NUM_CREDITS</th>\n",
       "      <th>JOB</th>\n",
       "      <th>NUM_DEPENDENTS</th>\n",
       "      <th>TELEPHONE</th>\n",
       "      <th>FOREIGN</th>\n",
       "      <th>DEFAULT</th>\n",
       "      <th>New_DEFAULT</th>\n",
       "    </tr>\n",
       "  </thead>\n",
       "  <tbody>\n",
       "    <tr>\n",
       "      <th>0</th>\n",
       "      <td>1</td>\n",
       "      <td>0</td>\n",
       "      <td>6.0</td>\n",
       "      <td>4</td>\n",
       "      <td>UsedCar</td>\n",
       "      <td>0</td>\n",
       "      <td>1</td>\n",
       "      <td>0</td>\n",
       "      <td>0</td>\n",
       "      <td>1169.0</td>\n",
       "      <td>...</td>\n",
       "      <td>0</td>\n",
       "      <td>0</td>\n",
       "      <td>1</td>\n",
       "      <td>2</td>\n",
       "      <td>2</td>\n",
       "      <td>1</td>\n",
       "      <td>1</td>\n",
       "      <td>0</td>\n",
       "      <td>1</td>\n",
       "      <td>0</td>\n",
       "    </tr>\n",
       "    <tr>\n",
       "      <th>1</th>\n",
       "      <td>2</td>\n",
       "      <td>1</td>\n",
       "      <td>48.0</td>\n",
       "      <td>2</td>\n",
       "      <td>UsedCar</td>\n",
       "      <td>0</td>\n",
       "      <td>1</td>\n",
       "      <td>0</td>\n",
       "      <td>0</td>\n",
       "      <td>5951.0</td>\n",
       "      <td>...</td>\n",
       "      <td>0</td>\n",
       "      <td>0</td>\n",
       "      <td>1</td>\n",
       "      <td>1</td>\n",
       "      <td>2</td>\n",
       "      <td>1</td>\n",
       "      <td>0</td>\n",
       "      <td>0</td>\n",
       "      <td>0</td>\n",
       "      <td>1</td>\n",
       "    </tr>\n",
       "    <tr>\n",
       "      <th>2</th>\n",
       "      <td>3</td>\n",
       "      <td>3</td>\n",
       "      <td>12.0</td>\n",
       "      <td>4</td>\n",
       "      <td>UsedCar</td>\n",
       "      <td>0</td>\n",
       "      <td>0</td>\n",
       "      <td>1</td>\n",
       "      <td>0</td>\n",
       "      <td>2096.0</td>\n",
       "      <td>...</td>\n",
       "      <td>0</td>\n",
       "      <td>0</td>\n",
       "      <td>1</td>\n",
       "      <td>1</td>\n",
       "      <td>1</td>\n",
       "      <td>2</td>\n",
       "      <td>0</td>\n",
       "      <td>0</td>\n",
       "      <td>1</td>\n",
       "      <td>0</td>\n",
       "    </tr>\n",
       "    <tr>\n",
       "      <th>3</th>\n",
       "      <td>4</td>\n",
       "      <td>0</td>\n",
       "      <td>42.0</td>\n",
       "      <td>2</td>\n",
       "      <td>UsedCar</td>\n",
       "      <td>1</td>\n",
       "      <td>0</td>\n",
       "      <td>0</td>\n",
       "      <td>0</td>\n",
       "      <td>7882.0</td>\n",
       "      <td>...</td>\n",
       "      <td>0</td>\n",
       "      <td>0</td>\n",
       "      <td>0</td>\n",
       "      <td>1</td>\n",
       "      <td>2</td>\n",
       "      <td>2</td>\n",
       "      <td>0</td>\n",
       "      <td>0</td>\n",
       "      <td>1</td>\n",
       "      <td>0</td>\n",
       "    </tr>\n",
       "    <tr>\n",
       "      <th>4</th>\n",
       "      <td>5</td>\n",
       "      <td>0</td>\n",
       "      <td>24.0</td>\n",
       "      <td>3</td>\n",
       "      <td>NewCar</td>\n",
       "      <td>0</td>\n",
       "      <td>0</td>\n",
       "      <td>0</td>\n",
       "      <td>0</td>\n",
       "      <td>4870.0</td>\n",
       "      <td>...</td>\n",
       "      <td>0</td>\n",
       "      <td>0</td>\n",
       "      <td>0</td>\n",
       "      <td>2</td>\n",
       "      <td>2</td>\n",
       "      <td>2</td>\n",
       "      <td>0</td>\n",
       "      <td>0</td>\n",
       "      <td>0</td>\n",
       "      <td>1</td>\n",
       "    </tr>\n",
       "    <tr>\n",
       "      <th>...</th>\n",
       "      <td>...</td>\n",
       "      <td>...</td>\n",
       "      <td>...</td>\n",
       "      <td>...</td>\n",
       "      <td>...</td>\n",
       "      <td>...</td>\n",
       "      <td>...</td>\n",
       "      <td>...</td>\n",
       "      <td>...</td>\n",
       "      <td>...</td>\n",
       "      <td>...</td>\n",
       "      <td>...</td>\n",
       "      <td>...</td>\n",
       "      <td>...</td>\n",
       "      <td>...</td>\n",
       "      <td>...</td>\n",
       "      <td>...</td>\n",
       "      <td>...</td>\n",
       "      <td>...</td>\n",
       "      <td>...</td>\n",
       "      <td>...</td>\n",
       "    </tr>\n",
       "    <tr>\n",
       "      <th>995</th>\n",
       "      <td>996</td>\n",
       "      <td>3</td>\n",
       "      <td>12.0</td>\n",
       "      <td>2</td>\n",
       "      <td>UsedCar</td>\n",
       "      <td>1</td>\n",
       "      <td>0</td>\n",
       "      <td>0</td>\n",
       "      <td>0</td>\n",
       "      <td>1736.0</td>\n",
       "      <td>...</td>\n",
       "      <td>0</td>\n",
       "      <td>0</td>\n",
       "      <td>1</td>\n",
       "      <td>1</td>\n",
       "      <td>1</td>\n",
       "      <td>1</td>\n",
       "      <td>0</td>\n",
       "      <td>0</td>\n",
       "      <td>1</td>\n",
       "      <td>0</td>\n",
       "    </tr>\n",
       "    <tr>\n",
       "      <th>996</th>\n",
       "      <td>997</td>\n",
       "      <td>0</td>\n",
       "      <td>30.0</td>\n",
       "      <td>2</td>\n",
       "      <td>UsedCar</td>\n",
       "      <td>0</td>\n",
       "      <td>0</td>\n",
       "      <td>0</td>\n",
       "      <td>0</td>\n",
       "      <td>3857.0</td>\n",
       "      <td>...</td>\n",
       "      <td>0</td>\n",
       "      <td>0</td>\n",
       "      <td>1</td>\n",
       "      <td>1</td>\n",
       "      <td>3</td>\n",
       "      <td>1</td>\n",
       "      <td>1</td>\n",
       "      <td>0</td>\n",
       "      <td>1</td>\n",
       "      <td>0</td>\n",
       "    </tr>\n",
       "    <tr>\n",
       "      <th>997</th>\n",
       "      <td>998</td>\n",
       "      <td>3</td>\n",
       "      <td>12.0</td>\n",
       "      <td>2</td>\n",
       "      <td>UsedCar</td>\n",
       "      <td>0</td>\n",
       "      <td>1</td>\n",
       "      <td>0</td>\n",
       "      <td>0</td>\n",
       "      <td>804.0</td>\n",
       "      <td>...</td>\n",
       "      <td>0</td>\n",
       "      <td>0</td>\n",
       "      <td>1</td>\n",
       "      <td>1</td>\n",
       "      <td>2</td>\n",
       "      <td>1</td>\n",
       "      <td>0</td>\n",
       "      <td>0</td>\n",
       "      <td>1</td>\n",
       "      <td>0</td>\n",
       "    </tr>\n",
       "    <tr>\n",
       "      <th>998</th>\n",
       "      <td>999</td>\n",
       "      <td>0</td>\n",
       "      <td>45.0</td>\n",
       "      <td>2</td>\n",
       "      <td>UsedCar</td>\n",
       "      <td>0</td>\n",
       "      <td>1</td>\n",
       "      <td>0</td>\n",
       "      <td>0</td>\n",
       "      <td>1845.0</td>\n",
       "      <td>...</td>\n",
       "      <td>0</td>\n",
       "      <td>0</td>\n",
       "      <td>0</td>\n",
       "      <td>1</td>\n",
       "      <td>2</td>\n",
       "      <td>1</td>\n",
       "      <td>1</td>\n",
       "      <td>0</td>\n",
       "      <td>0</td>\n",
       "      <td>1</td>\n",
       "    </tr>\n",
       "    <tr>\n",
       "      <th>999</th>\n",
       "      <td>1000</td>\n",
       "      <td>1</td>\n",
       "      <td>45.0</td>\n",
       "      <td>4</td>\n",
       "      <td>UsedCar</td>\n",
       "      <td>0</td>\n",
       "      <td>0</td>\n",
       "      <td>0</td>\n",
       "      <td>0</td>\n",
       "      <td>4576.0</td>\n",
       "      <td>...</td>\n",
       "      <td>0</td>\n",
       "      <td>0</td>\n",
       "      <td>1</td>\n",
       "      <td>1</td>\n",
       "      <td>2</td>\n",
       "      <td>1</td>\n",
       "      <td>0</td>\n",
       "      <td>0</td>\n",
       "      <td>1</td>\n",
       "      <td>0</td>\n",
       "    </tr>\n",
       "  </tbody>\n",
       "</table>\n",
       "<p>1000 rows × 30 columns</p>\n",
       "</div>"
      ],
      "text/plain": [
       "     OBS.  CHK_ACCT  DURATION  HISTORY      CAR  FURNITURE  RADIO.TV  \\\n",
       "0       1         0       6.0        4  UsedCar          0         1   \n",
       "1       2         1      48.0        2  UsedCar          0         1   \n",
       "2       3         3      12.0        4  UsedCar          0         0   \n",
       "3       4         0      42.0        2  UsedCar          1         0   \n",
       "4       5         0      24.0        3   NewCar          0         0   \n",
       "..    ...       ...       ...      ...      ...        ...       ...   \n",
       "995   996         3      12.0        2  UsedCar          1         0   \n",
       "996   997         0      30.0        2  UsedCar          0         0   \n",
       "997   998         3      12.0        2  UsedCar          0         1   \n",
       "998   999         0      45.0        2  UsedCar          0         1   \n",
       "999  1000         1      45.0        4  UsedCar          0         0   \n",
       "\n",
       "     EDUCATION  RETRAINING  AMOUNT  ...  OTHER_INSTALL  RENT  OWN_RES  \\\n",
       "0            0           0  1169.0  ...              0     0        1   \n",
       "1            0           0  5951.0  ...              0     0        1   \n",
       "2            1           0  2096.0  ...              0     0        1   \n",
       "3            0           0  7882.0  ...              0     0        0   \n",
       "4            0           0  4870.0  ...              0     0        0   \n",
       "..         ...         ...     ...  ...            ...   ...      ...   \n",
       "995          0           0  1736.0  ...              0     0        1   \n",
       "996          0           0  3857.0  ...              0     0        1   \n",
       "997          0           0   804.0  ...              0     0        1   \n",
       "998          0           0  1845.0  ...              0     0        0   \n",
       "999          0           0  4576.0  ...              0     0        1   \n",
       "\n",
       "    NUM_CREDITS  JOB  NUM_DEPENDENTS  TELEPHONE  FOREIGN  DEFAULT  New_DEFAULT  \n",
       "0             2    2               1          1        0        1            0  \n",
       "1             1    2               1          0        0        0            1  \n",
       "2             1    1               2          0        0        1            0  \n",
       "3             1    2               2          0        0        1            0  \n",
       "4             2    2               2          0        0        0            1  \n",
       "..          ...  ...             ...        ...      ...      ...          ...  \n",
       "995           1    1               1          0        0        1            0  \n",
       "996           1    3               1          1        0        1            0  \n",
       "997           1    2               1          0        0        1            0  \n",
       "998           1    2               1          1        0        0            1  \n",
       "999           1    2               1          0        0        1            0  \n",
       "\n",
       "[1000 rows x 30 columns]"
      ]
     },
     "execution_count": 7,
     "metadata": {},
     "output_type": "execute_result"
    }
   ],
   "source": [
    "df"
   ]
  },
  {
   "cell_type": "code",
   "execution_count": 8,
   "id": "6f2789ba",
   "metadata": {},
   "outputs": [
    {
     "data": {
      "text/plain": [
       "0    700\n",
       "1    300\n",
       "Name: New_DEFAULT, dtype: int64"
      ]
     },
     "execution_count": 8,
     "metadata": {},
     "output_type": "execute_result"
    }
   ],
   "source": [
    "df['New_DEFAULT'].value_counts()\n",
    "# Minority class is New_DEFAULT = 1"
   ]
  },
  {
   "cell_type": "code",
   "execution_count": 9,
   "id": "44811c49",
   "metadata": {},
   "outputs": [
    {
     "data": {
      "text/plain": [
       "<AxesSubplot:>"
      ]
     },
     "execution_count": 9,
     "metadata": {},
     "output_type": "execute_result"
    },
    {
     "data": {
      "image/png": "[encoded data removed]",
      "text/plain": [
       "<Figure size 432x288 with 1 Axes>"
      ]
     },
     "metadata": {
      "needs_background": "light"
     },
     "output_type": "display_data"
    }
   ],
   "source": [
    "df['New_DEFAULT'].value_counts().plot(kind='bar')"
   ]
  },
  {
   "cell_type": "code",
   "execution_count": 10,
   "id": "7222c79e",
   "metadata": {},
   "outputs": [
    {
     "data": {
      "text/plain": [
       "<AxesSubplot:xlabel='New_DEFAULT,OWN_RES'>"
      ]
     },
     "execution_count": 10,
     "metadata": {},
     "output_type": "execute_result"
    },
    {
     "data": {
      "image/png": "[encoded data removed]",
      "text/plain": [
       "<Figure size 432x288 with 1 Axes>"
      ]
     },
     "metadata": {
      "needs_background": "light"
     },
     "output_type": "display_data"
    }
   ],
   "source": [
    "df.groupby('New_DEFAULT')['OWN_RES'].value_counts().plot(kind = 'bar')"
   ]
  },
  {
   "cell_type": "code",
   "execution_count": 11,
   "id": "487cd36c",
   "metadata": {},
   "outputs": [
    {
     "data": {
      "text/plain": [
       "<AxesSubplot:xlabel='New_DEFAULT,EDUCATION'>"
      ]
     },
     "execution_count": 11,
     "metadata": {},
     "output_type": "execute_result"
    },
    {
     "data": {
      "image/png": "[encoded data removed]",
      "text/plain": [
       "<Figure size 432x288 with 1 Axes>"
      ]
     },
     "metadata": {
      "needs_background": "light"
     },
     "output_type": "display_data"
    }
   ],
   "source": [
    "df.groupby('New_DEFAULT')['EDUCATION'].value_counts().plot(kind = 'bar')"
   ]
  },
  {
   "cell_type": "code",
   "execution_count": 12,
   "id": "c89ab970",
   "metadata": {},
   "outputs": [
    {
     "data": {
      "text/plain": [
       "<AxesSubplot:xlabel='New_DEFAULT,NUM_DEPENDENTS'>"
      ]
     },
     "execution_count": 12,
     "metadata": {},
     "output_type": "execute_result"
    },
    {
     "data": {
      "image/png": "[encoded data removed]",
      "text/plain": [
       "<Figure size 432x288 with 1 Axes>"
      ]
     },
     "metadata": {
      "needs_background": "light"
     },
     "output_type": "display_data"
    }
   ],
   "source": [
    "df.groupby('New_DEFAULT')['NUM_DEPENDENTS'].value_counts().plot(kind = 'bar')"
   ]
  },
  {
   "cell_type": "code",
   "execution_count": 13,
   "id": "452bdb09",
   "metadata": {},
   "outputs": [
    {
     "data": {
      "text/plain": [
       "<AxesSubplot:xlabel='New_DEFAULT,NUM_DEPENDENTS'>"
      ]
     },
     "execution_count": 13,
     "metadata": {},
     "output_type": "execute_result"
    },
    {
     "data": {
      "image/png": "[encoded data removed]",
      "text/plain": [
       "<Figure size 432x288 with 1 Axes>"
      ]
     },
     "metadata": {
      "needs_background": "light"
     },
     "output_type": "display_data"
    }
   ],
   "source": [
    "df.groupby('New_DEFAULT')['NUM_DEPENDENTS'].value_counts().plot(kind = 'bar')"
   ]
  },
  {
   "cell_type": "code",
   "execution_count": 14,
   "id": "bb4d6f9e",
   "metadata": {},
   "outputs": [
    {
     "data": {
      "text/plain": [
       "OBS.                0\n",
       "CHK_ACCT            0\n",
       "DURATION            3\n",
       "HISTORY             0\n",
       "CAR                 3\n",
       "FURNITURE           0\n",
       "RADIO.TV            0\n",
       "EDUCATION           0\n",
       "RETRAINING          0\n",
       "AMOUNT              4\n",
       "SAV_ACCT            0\n",
       "EMPLOYMENT          0\n",
       "INSTALL_RATE        0\n",
       "MaritalStatus       4\n",
       "CO.APPLICANT        0\n",
       "GUARANTOR           0\n",
       "PRESENT_RESIDENT    0\n",
       "REAL_ESTATE         0\n",
       "PROP_UNKN_NONE      0\n",
       "AGE                 2\n",
       "OTHER_INSTALL       0\n",
       "RENT                0\n",
       "OWN_RES             0\n",
       "NUM_CREDITS         0\n",
       "JOB                 0\n",
       "NUM_DEPENDENTS      0\n",
       "TELEPHONE           0\n",
       "FOREIGN             0\n",
       "DEFAULT             0\n",
       "New_DEFAULT         0\n",
       "dtype: int64"
      ]
     },
     "execution_count": 14,
     "metadata": {},
     "output_type": "execute_result"
    }
   ],
   "source": [
    "df.isnull().sum()"
   ]
  },
  {
   "cell_type": "code",
   "execution_count": 15,
   "id": "43cbe53e",
   "metadata": {},
   "outputs": [
    {
     "name": "stderr",
     "output_type": "stream",
     "text": [
      "C:\\Users\\srivi\\anaconda3\\lib\\site-packages\\seaborn\\_decorators.py:36: FutureWarning: Pass the following variables as keyword args: x, y. From version 0.12, the only valid positional argument will be `data`, and passing other arguments without an explicit keyword will result in an error or misinterpretation.\n",
      "  warnings.warn(\n"
     ]
    },
    {
     "data": {
      "text/plain": [
       "<AxesSubplot:xlabel='New_DEFAULT', ylabel='AGE'>"
      ]
     },
     "execution_count": 15,
     "metadata": {},
     "output_type": "execute_result"
    },
    {
     "data": {
      "image/png": "[encoded data removed]",
      "text/plain": [
       "<Figure size 432x288 with 1 Axes>"
      ]
     },
     "metadata": {
      "needs_background": "light"
     },
     "output_type": "display_data"
    }
   ],
   "source": [
    "sns.boxplot(df['New_DEFAULT'], df['AGE'])"
   ]
  },
  {
   "cell_type": "code",
   "execution_count": 16,
   "id": "731b86bb",
   "metadata": {},
   "outputs": [
    {
     "name": "stderr",
     "output_type": "stream",
     "text": [
      "C:\\Users\\srivi\\anaconda3\\lib\\site-packages\\seaborn\\_decorators.py:36: FutureWarning: Pass the following variables as keyword args: x, y. From version 0.12, the only valid positional argument will be `data`, and passing other arguments without an explicit keyword will result in an error or misinterpretation.\n",
      "  warnings.warn(\n"
     ]
    },
    {
     "data": {
      "text/plain": [
       "<AxesSubplot:xlabel='New_DEFAULT', ylabel='AMOUNT'>"
      ]
     },
     "execution_count": 16,
     "metadata": {},
     "output_type": "execute_result"
    },
    {
     "data": {
      "image/png": "[encoded data removed]",
      "text/plain": [
       "<Figure size 432x288 with 1 Axes>"
      ]
     },
     "metadata": {
      "needs_background": "light"
     },
     "output_type": "display_data"
    }
   ],
   "source": [
    "sns.boxplot(df['New_DEFAULT'], df['AMOUNT'])"
   ]
  },
  {
   "cell_type": "code",
   "execution_count": 17,
   "id": "5b107856",
   "metadata": {},
   "outputs": [
    {
     "name": "stderr",
     "output_type": "stream",
     "text": [
      "C:\\Users\\srivi\\anaconda3\\lib\\site-packages\\seaborn\\_decorators.py:36: FutureWarning: Pass the following variables as keyword args: x, y. From version 0.12, the only valid positional argument will be `data`, and passing other arguments without an explicit keyword will result in an error or misinterpretation.\n",
      "  warnings.warn(\n"
     ]
    },
    {
     "data": {
      "text/plain": [
       "<AxesSubplot:xlabel='New_DEFAULT', ylabel='DURATION'>"
      ]
     },
     "execution_count": 17,
     "metadata": {},
     "output_type": "execute_result"
    },
    {
     "data": {
      "image/png": "[encoded data removed]",
      "text/plain": [
       "<Figure size 432x288 with 1 Axes>"
      ]
     },
     "metadata": {
      "needs_background": "light"
     },
     "output_type": "display_data"
    }
   ],
   "source": [
    "\n",
    "sns.boxplot(df['New_DEFAULT'], df['DURATION'])"
   ]
  },
  {
   "cell_type": "code",
   "execution_count": 18,
   "id": "de6fd3b4",
   "metadata": {},
   "outputs": [
    {
     "name": "stderr",
     "output_type": "stream",
     "text": [
      "C:\\Users\\srivi\\anaconda3\\lib\\site-packages\\seaborn\\_decorators.py:36: FutureWarning: Pass the following variables as keyword args: x, y. From version 0.12, the only valid positional argument will be `data`, and passing other arguments without an explicit keyword will result in an error or misinterpretation.\n",
      "  warnings.warn(\n"
     ]
    },
    {
     "data": {
      "text/plain": [
       "<AxesSubplot:xlabel='New_DEFAULT', ylabel='EMPLOYMENT'>"
      ]
     },
     "execution_count": 18,
     "metadata": {},
     "output_type": "execute_result"
    },
    {
     "data": {
      "image/png": "[encoded data removed]",
      "text/plain": [
       "<Figure size 432x288 with 1 Axes>"
      ]
     },
     "metadata": {
      "needs_background": "light"
     },
     "output_type": "display_data"
    }
   ],
   "source": [
    "sns.boxplot(df['New_DEFAULT'], df['EMPLOYMENT'])"
   ]
  },
  {
   "cell_type": "code",
   "execution_count": 19,
   "id": "759f27c0",
   "metadata": {},
   "outputs": [
    {
     "data": {
      "text/plain": [
       "<AxesSubplot:>"
      ]
     },
     "execution_count": 19,
     "metadata": {},
     "output_type": "execute_result"
    },
    {
     "data": {
      "image/png": "[encoded data removed]",
      "text/plain": [
       "<Figure size 432x288 with 1 Axes>"
      ]
     },
     "metadata": {
      "needs_background": "light"
     },
     "output_type": "display_data"
    }
   ],
   "source": [
    "df['DURATION'].hist()"
   ]
  },
  {
   "cell_type": "code",
   "execution_count": 20,
   "id": "3f42e24b",
   "metadata": {},
   "outputs": [],
   "source": [
    "df['DURATION'] = df['DURATION'].fillna(df['DURATION'].median())"
   ]
  },
  {
   "cell_type": "code",
   "execution_count": 21,
   "id": "00556e5e",
   "metadata": {},
   "outputs": [
    {
     "data": {
      "text/plain": [
       "UsedCar    765\n",
       "NewCar     232\n",
       "Name: CAR, dtype: int64"
      ]
     },
     "execution_count": 21,
     "metadata": {},
     "output_type": "execute_result"
    }
   ],
   "source": [
    "df['CAR'].value_counts()"
   ]
  },
  {
   "cell_type": "code",
   "execution_count": 22,
   "id": "4812db61",
   "metadata": {},
   "outputs": [],
   "source": [
    "df['CAR'] = df['CAR'].fillna(df['CAR'].mode()[0])"
   ]
  },
  {
   "cell_type": "code",
   "execution_count": 23,
   "id": "b9db5733",
   "metadata": {},
   "outputs": [
    {
     "data": {
      "text/plain": [
       "<AxesSubplot:>"
      ]
     },
     "execution_count": 23,
     "metadata": {},
     "output_type": "execute_result"
    },
    {
     "data": {
      "image/png": "[encoded data removed]",
      "text/plain": [
       "<Figure size 432x288 with 1 Axes>"
      ]
     },
     "metadata": {
      "needs_background": "light"
     },
     "output_type": "display_data"
    }
   ],
   "source": [
    "df['AMOUNT'].hist()"
   ]
  },
  {
   "cell_type": "code",
   "execution_count": 24,
   "id": "3c574301",
   "metadata": {},
   "outputs": [],
   "source": [
    "df['AMOUNT'] = df['AMOUNT'].fillna(df['AMOUNT'].median())"
   ]
  },
  {
   "cell_type": "code",
   "execution_count": 25,
   "id": "6cefe6c5",
   "metadata": {},
   "outputs": [],
   "source": [
    "df['MaritalStatus'] = df['MaritalStatus'].fillna(df['MaritalStatus'].mode()[0])"
   ]
  },
  {
   "cell_type": "code",
   "execution_count": 26,
   "id": "474cb10e",
   "metadata": {},
   "outputs": [
    {
     "data": {
      "text/plain": [
       "<AxesSubplot:>"
      ]
     },
     "execution_count": 26,
     "metadata": {},
     "output_type": "execute_result"
    },
    {
     "data": {
      "image/png": "[encoded data removed]",
      "text/plain": [
       "<Figure size 432x288 with 1 Axes>"
      ]
     },
     "metadata": {
      "needs_background": "light"
     },
     "output_type": "display_data"
    }
   ],
   "source": [
    "df['AGE'].hist()"
   ]
  },
  {
   "cell_type": "code",
   "execution_count": 27,
   "id": "33af671f",
   "metadata": {},
   "outputs": [],
   "source": [
    "df['AGE'] = df['AGE'].fillna(df['AGE'].median())"
   ]
  },
  {
   "cell_type": "code",
   "execution_count": 28,
   "id": "fe9b152b",
   "metadata": {},
   "outputs": [
    {
     "data": {
      "text/plain": [
       "OBS.                0\n",
       "CHK_ACCT            0\n",
       "DURATION            0\n",
       "HISTORY             0\n",
       "CAR                 0\n",
       "FURNITURE           0\n",
       "RADIO.TV            0\n",
       "EDUCATION           0\n",
       "RETRAINING          0\n",
       "AMOUNT              0\n",
       "SAV_ACCT            0\n",
       "EMPLOYMENT          0\n",
       "INSTALL_RATE        0\n",
       "MaritalStatus       0\n",
       "CO.APPLICANT        0\n",
       "GUARANTOR           0\n",
       "PRESENT_RESIDENT    0\n",
       "REAL_ESTATE         0\n",
       "PROP_UNKN_NONE      0\n",
       "AGE                 0\n",
       "OTHER_INSTALL       0\n",
       "RENT                0\n",
       "OWN_RES             0\n",
       "NUM_CREDITS         0\n",
       "JOB                 0\n",
       "NUM_DEPENDENTS      0\n",
       "TELEPHONE           0\n",
       "FOREIGN             0\n",
       "DEFAULT             0\n",
       "New_DEFAULT         0\n",
       "dtype: int64"
      ]
     },
     "execution_count": 28,
     "metadata": {},
     "output_type": "execute_result"
    }
   ],
   "source": [
    "df.isnull().sum()"
   ]
  },
  {
   "cell_type": "code",
   "execution_count": 29,
   "id": "35941538",
   "metadata": {},
   "outputs": [
    {
     "data": {
      "text/plain": [
       "OBS.                  int64\n",
       "CHK_ACCT              int64\n",
       "DURATION            float64\n",
       "HISTORY               int64\n",
       "CAR                  object\n",
       "FURNITURE             int64\n",
       "RADIO.TV              int64\n",
       "EDUCATION             int64\n",
       "RETRAINING            int64\n",
       "AMOUNT              float64\n",
       "SAV_ACCT              int64\n",
       "EMPLOYMENT            int64\n",
       "INSTALL_RATE          int64\n",
       "MaritalStatus        object\n",
       "CO.APPLICANT          int64\n",
       "GUARANTOR             int64\n",
       "PRESENT_RESIDENT      int64\n",
       "REAL_ESTATE           int64\n",
       "PROP_UNKN_NONE        int64\n",
       "AGE                 float64\n",
       "OTHER_INSTALL         int64\n",
       "RENT                  int64\n",
       "OWN_RES               int64\n",
       "NUM_CREDITS           int64\n",
       "JOB                   int64\n",
       "NUM_DEPENDENTS        int64\n",
       "TELEPHONE             int64\n",
       "FOREIGN               int64\n",
       "DEFAULT               int64\n",
       "New_DEFAULT           int64\n",
       "dtype: object"
      ]
     },
     "execution_count": 29,
     "metadata": {},
     "output_type": "execute_result"
    }
   ],
   "source": [
    "df.dtypes"
   ]
  },
  {
   "cell_type": "code",
   "execution_count": 30,
   "id": "d349c154",
   "metadata": {},
   "outputs": [],
   "source": [
    "df_dummies_maritalStatus = pd.get_dummies(df,columns=['MaritalStatus'])"
   ]
  },
  {
   "cell_type": "code",
   "execution_count": 31,
   "id": "89664af3",
   "metadata": {},
   "outputs": [],
   "source": [
    "df_dummies = pd.get_dummies(df_dummies_maritalStatus,columns=['CAR'])"
   ]
  },
  {
   "cell_type": "code",
   "execution_count": 32,
   "id": "b96c760b",
   "metadata": {},
   "outputs": [],
   "source": [
    "df = df_dummies"
   ]
  },
  {
   "cell_type": "code",
   "execution_count": 33,
   "id": "6936a3ab",
   "metadata": {},
   "outputs": [
    {
     "data": {
      "text/plain": [
       "OBS.                        int64\n",
       "CHK_ACCT                    int64\n",
       "DURATION                  float64\n",
       "HISTORY                     int64\n",
       "FURNITURE                   int64\n",
       "RADIO.TV                    int64\n",
       "EDUCATION                   int64\n",
       "RETRAINING                  int64\n",
       "AMOUNT                    float64\n",
       "SAV_ACCT                    int64\n",
       "EMPLOYMENT                  int64\n",
       "INSTALL_RATE                int64\n",
       "CO.APPLICANT                int64\n",
       "GUARANTOR                   int64\n",
       "PRESENT_RESIDENT            int64\n",
       "REAL_ESTATE                 int64\n",
       "PROP_UNKN_NONE              int64\n",
       "AGE                       float64\n",
       "OTHER_INSTALL               int64\n",
       "RENT                        int64\n",
       "OWN_RES                     int64\n",
       "NUM_CREDITS                 int64\n",
       "JOB                         int64\n",
       "NUM_DEPENDENTS              int64\n",
       "TELEPHONE                   int64\n",
       "FOREIGN                     int64\n",
       "DEFAULT                     int64\n",
       "New_DEFAULT                 int64\n",
       "MaritalStatus_Married       uint8\n",
       "MaritalStatus_Single        uint8\n",
       "MaritalStatus_Widower       uint8\n",
       "MaritalStatus_divorcee      uint8\n",
       "CAR_NewCar                  uint8\n",
       "CAR_UsedCar                 uint8\n",
       "dtype: object"
      ]
     },
     "execution_count": 33,
     "metadata": {},
     "output_type": "execute_result"
    }
   ],
   "source": [
    "df.dtypes"
   ]
  },
  {
   "cell_type": "code",
   "execution_count": 34,
   "id": "601b2bd8",
   "metadata": {},
   "outputs": [
    {
     "data": {
      "text/html": [
       "<div>\n",
       "<style scoped>\n",
       "    .dataframe tbody tr th:only-of-type {\n",
       "        vertical-align: middle;\n",
       "    }\n",
       "\n",
       "    .dataframe tbody tr th {\n",
       "        vertical-align: top;\n",
       "    }\n",
       "\n",
       "    .dataframe thead th {\n",
       "        text-align: right;\n",
       "    }\n",
       "</style>\n",
       "<table border=\"1\" class=\"dataframe\">\n",
       "  <thead>\n",
       "    <tr style=\"text-align: right;\">\n",
       "      <th></th>\n",
       "      <th>OBS.</th>\n",
       "      <th>CHK_ACCT</th>\n",
       "      <th>DURATION</th>\n",
       "      <th>HISTORY</th>\n",
       "      <th>FURNITURE</th>\n",
       "      <th>RADIO.TV</th>\n",
       "      <th>EDUCATION</th>\n",
       "      <th>RETRAINING</th>\n",
       "      <th>AMOUNT</th>\n",
       "      <th>SAV_ACCT</th>\n",
       "      <th>...</th>\n",
       "      <th>TELEPHONE</th>\n",
       "      <th>FOREIGN</th>\n",
       "      <th>DEFAULT</th>\n",
       "      <th>New_DEFAULT</th>\n",
       "      <th>MaritalStatus_Married</th>\n",
       "      <th>MaritalStatus_Single</th>\n",
       "      <th>MaritalStatus_Widower</th>\n",
       "      <th>MaritalStatus_divorcee</th>\n",
       "      <th>CAR_NewCar</th>\n",
       "      <th>CAR_UsedCar</th>\n",
       "    </tr>\n",
       "  </thead>\n",
       "  <tbody>\n",
       "    <tr>\n",
       "      <th>0</th>\n",
       "      <td>1</td>\n",
       "      <td>0</td>\n",
       "      <td>6.0</td>\n",
       "      <td>4</td>\n",
       "      <td>0</td>\n",
       "      <td>1</td>\n",
       "      <td>0</td>\n",
       "      <td>0</td>\n",
       "      <td>1169.0</td>\n",
       "      <td>4</td>\n",
       "      <td>...</td>\n",
       "      <td>1</td>\n",
       "      <td>0</td>\n",
       "      <td>1</td>\n",
       "      <td>0</td>\n",
       "      <td>0</td>\n",
       "      <td>0</td>\n",
       "      <td>1</td>\n",
       "      <td>0</td>\n",
       "      <td>0</td>\n",
       "      <td>1</td>\n",
       "    </tr>\n",
       "    <tr>\n",
       "      <th>1</th>\n",
       "      <td>2</td>\n",
       "      <td>1</td>\n",
       "      <td>48.0</td>\n",
       "      <td>2</td>\n",
       "      <td>0</td>\n",
       "      <td>1</td>\n",
       "      <td>0</td>\n",
       "      <td>0</td>\n",
       "      <td>5951.0</td>\n",
       "      <td>0</td>\n",
       "      <td>...</td>\n",
       "      <td>0</td>\n",
       "      <td>0</td>\n",
       "      <td>0</td>\n",
       "      <td>1</td>\n",
       "      <td>0</td>\n",
       "      <td>1</td>\n",
       "      <td>0</td>\n",
       "      <td>0</td>\n",
       "      <td>0</td>\n",
       "      <td>1</td>\n",
       "    </tr>\n",
       "    <tr>\n",
       "      <th>2</th>\n",
       "      <td>3</td>\n",
       "      <td>3</td>\n",
       "      <td>12.0</td>\n",
       "      <td>4</td>\n",
       "      <td>0</td>\n",
       "      <td>0</td>\n",
       "      <td>1</td>\n",
       "      <td>0</td>\n",
       "      <td>2096.0</td>\n",
       "      <td>0</td>\n",
       "      <td>...</td>\n",
       "      <td>0</td>\n",
       "      <td>0</td>\n",
       "      <td>1</td>\n",
       "      <td>0</td>\n",
       "      <td>0</td>\n",
       "      <td>1</td>\n",
       "      <td>0</td>\n",
       "      <td>0</td>\n",
       "      <td>0</td>\n",
       "      <td>1</td>\n",
       "    </tr>\n",
       "    <tr>\n",
       "      <th>3</th>\n",
       "      <td>4</td>\n",
       "      <td>0</td>\n",
       "      <td>42.0</td>\n",
       "      <td>2</td>\n",
       "      <td>1</td>\n",
       "      <td>0</td>\n",
       "      <td>0</td>\n",
       "      <td>0</td>\n",
       "      <td>7882.0</td>\n",
       "      <td>0</td>\n",
       "      <td>...</td>\n",
       "      <td>0</td>\n",
       "      <td>0</td>\n",
       "      <td>1</td>\n",
       "      <td>0</td>\n",
       "      <td>0</td>\n",
       "      <td>1</td>\n",
       "      <td>0</td>\n",
       "      <td>0</td>\n",
       "      <td>0</td>\n",
       "      <td>1</td>\n",
       "    </tr>\n",
       "    <tr>\n",
       "      <th>4</th>\n",
       "      <td>5</td>\n",
       "      <td>0</td>\n",
       "      <td>24.0</td>\n",
       "      <td>3</td>\n",
       "      <td>0</td>\n",
       "      <td>0</td>\n",
       "      <td>0</td>\n",
       "      <td>0</td>\n",
       "      <td>4870.0</td>\n",
       "      <td>0</td>\n",
       "      <td>...</td>\n",
       "      <td>0</td>\n",
       "      <td>0</td>\n",
       "      <td>0</td>\n",
       "      <td>1</td>\n",
       "      <td>0</td>\n",
       "      <td>1</td>\n",
       "      <td>0</td>\n",
       "      <td>0</td>\n",
       "      <td>1</td>\n",
       "      <td>0</td>\n",
       "    </tr>\n",
       "  </tbody>\n",
       "</table>\n",
       "<p>5 rows × 34 columns</p>\n",
       "</div>"
      ],
      "text/plain": [
       "   OBS.  CHK_ACCT  DURATION  HISTORY  FURNITURE  RADIO.TV  EDUCATION  \\\n",
       "0     1         0       6.0        4          0         1          0   \n",
       "1     2         1      48.0        2          0         1          0   \n",
       "2     3         3      12.0        4          0         0          1   \n",
       "3     4         0      42.0        2          1         0          0   \n",
       "4     5         0      24.0        3          0         0          0   \n",
       "\n",
       "   RETRAINING  AMOUNT  SAV_ACCT  ...  TELEPHONE  FOREIGN  DEFAULT  \\\n",
       "0           0  1169.0         4  ...          1        0        1   \n",
       "1           0  5951.0         0  ...          0        0        0   \n",
       "2           0  2096.0         0  ...          0        0        1   \n",
       "3           0  7882.0         0  ...          0        0        1   \n",
       "4           0  4870.0         0  ...          0        0        0   \n",
       "\n",
       "   New_DEFAULT  MaritalStatus_Married  MaritalStatus_Single  \\\n",
       "0            0                      0                     0   \n",
       "1            1                      0                     1   \n",
       "2            0                      0                     1   \n",
       "3            0                      0                     1   \n",
       "4            1                      0                     1   \n",
       "\n",
       "   MaritalStatus_Widower  MaritalStatus_divorcee  CAR_NewCar  CAR_UsedCar  \n",
       "0                      1                       0           0            1  \n",
       "1                      0                       0           0            1  \n",
       "2                      0                       0           0            1  \n",
       "3                      0                       0           0            1  \n",
       "4                      0                       0           1            0  \n",
       "\n",
       "[5 rows x 34 columns]"
      ]
     },
     "execution_count": 34,
     "metadata": {},
     "output_type": "execute_result"
    }
   ],
   "source": [
    "df.head()"
   ]
  },
  {
   "cell_type": "code",
   "execution_count": 35,
   "id": "e1ffa94f",
   "metadata": {},
   "outputs": [
    {
     "data": {
      "text/plain": [
       "Index(['OBS.', 'CHK_ACCT', 'DURATION', 'HISTORY', 'FURNITURE', 'RADIO.TV',\n",
       "       'EDUCATION', 'RETRAINING', 'AMOUNT', 'SAV_ACCT', 'EMPLOYMENT',\n",
       "       'INSTALL_RATE', 'CO.APPLICANT', 'GUARANTOR', 'PRESENT_RESIDENT',\n",
       "       'REAL_ESTATE', 'PROP_UNKN_NONE', 'AGE', 'OTHER_INSTALL', 'RENT',\n",
       "       'OWN_RES', 'NUM_CREDITS', 'JOB', 'NUM_DEPENDENTS', 'TELEPHONE',\n",
       "       'FOREIGN', 'DEFAULT', 'New_DEFAULT', 'MaritalStatus_Married',\n",
       "       'MaritalStatus_Single', 'MaritalStatus_Widower',\n",
       "       'MaritalStatus_divorcee', 'CAR_NewCar', 'CAR_UsedCar'],\n",
       "      dtype='object')"
      ]
     },
     "execution_count": 35,
     "metadata": {},
     "output_type": "execute_result"
    }
   ],
   "source": [
    "df.columns"
   ]
  },
  {
   "cell_type": "code",
   "execution_count": 36,
   "id": "85247743",
   "metadata": {},
   "outputs": [],
   "source": [
    "df = df.drop(['OBS.'],axis=1)"
   ]
  },
  {
   "cell_type": "code",
   "execution_count": 37,
   "id": "422e8152",
   "metadata": {},
   "outputs": [
    {
     "data": {
      "text/plain": [
       "Index(['CHK_ACCT', 'DURATION', 'HISTORY', 'FURNITURE', 'RADIO.TV', 'EDUCATION',\n",
       "       'RETRAINING', 'AMOUNT', 'SAV_ACCT', 'EMPLOYMENT', 'INSTALL_RATE',\n",
       "       'CO.APPLICANT', 'GUARANTOR', 'PRESENT_RESIDENT', 'REAL_ESTATE',\n",
       "       'PROP_UNKN_NONE', 'AGE', 'OTHER_INSTALL', 'RENT', 'OWN_RES',\n",
       "       'NUM_CREDITS', 'JOB', 'NUM_DEPENDENTS', 'TELEPHONE', 'FOREIGN',\n",
       "       'DEFAULT', 'New_DEFAULT', 'MaritalStatus_Married',\n",
       "       'MaritalStatus_Single', 'MaritalStatus_Widower',\n",
       "       'MaritalStatus_divorcee', 'CAR_NewCar', 'CAR_UsedCar'],\n",
       "      dtype='object')"
      ]
     },
     "execution_count": 37,
     "metadata": {},
     "output_type": "execute_result"
    }
   ],
   "source": [
    "df.columns"
   ]
  },
  {
   "cell_type": "code",
   "execution_count": 38,
   "id": "19179a4d",
   "metadata": {},
   "outputs": [
    {
     "data": {
      "text/plain": [
       "<AxesSubplot:>"
      ]
     },
     "execution_count": 38,
     "metadata": {},
     "output_type": "execute_result"
    },
    {
     "data": {
      "image/png": "[encoded data removed]",
      "text/plain": [
       "<Figure size 432x288 with 2 Axes>"
      ]
     },
     "metadata": {
      "needs_background": "light"
     },
     "output_type": "display_data"
    }
   ],
   "source": [
    "# find correlation between variables\n",
    "corr_matrix = df.corr()\n",
    "sns.heatmap(corr_matrix)"
   ]
  },
  {
   "cell_type": "code",
   "execution_count": 39,
   "id": "5e0989ef",
   "metadata": {},
   "outputs": [
    {
     "data": {
      "text/plain": [
       "DEFAULT                   1.000000e+00\n",
       "New_DEFAULT               1.000000e+00\n",
       "CHK_ACCT                  3.508475e-01\n",
       "HISTORY                   2.287847e-01\n",
       "DURATION                  2.128593e-01\n",
       "SAV_ACCT                  1.789427e-01\n",
       "AMOUNT                    1.548630e-01\n",
       "OWN_RES                   1.345888e-01\n",
       "PROP_UNKN_NONE            1.257500e-01\n",
       "REAL_ESTATE               1.192995e-01\n",
       "EMPLOYMENT                1.160020e-01\n",
       "OTHER_INSTALL             1.132852e-01\n",
       "RADIO.TV                  1.069222e-01\n",
       "CAR_UsedCar               9.512257e-02\n",
       "CAR_NewCar                9.512257e-02\n",
       "RENT                      9.278545e-02\n",
       "AGE                       8.985373e-02\n",
       "FOREIGN                   8.207950e-02\n",
       "INSTALL_RATE              7.240394e-02\n",
       "EDUCATION                 7.008766e-02\n",
       "CO.APPLICANT              6.272837e-02\n",
       "GUARANTOR                 5.503925e-02\n",
       "NUM_CREDITS               4.573249e-02\n",
       "TELEPHONE                 3.646619e-02\n",
       "RETRAINING                3.612906e-02\n",
       "JOB                       3.273500e-02\n",
       "FURNITURE                 2.097060e-02\n",
       "MaritalStatus_Widower     1.333087e-02\n",
       "MaritalStatus_divorcee    1.289943e-02\n",
       "MaritalStatus_Married     1.279216e-02\n",
       "NUM_DEPENDENTS            3.014853e-03\n",
       "PRESENT_RESIDENT          2.967159e-03\n",
       "MaritalStatus_Single      3.707481e-17\n",
       "Name: New_DEFAULT, dtype: float64"
      ]
     },
     "execution_count": 39,
     "metadata": {},
     "output_type": "execute_result"
    }
   ],
   "source": [
    "abs(corr_matrix['New_DEFAULT']).sort_values(ascending=False)"
   ]
  },
  {
   "cell_type": "code",
   "execution_count": 40,
   "id": "e7c6b58f",
   "metadata": {},
   "outputs": [],
   "source": [
    "X = df[['CHK_ACCT', 'DURATION', 'HISTORY', 'FURNITURE', 'RADIO.TV', 'EDUCATION',\n",
    "       'RETRAINING', 'AMOUNT', 'SAV_ACCT', 'EMPLOYMENT', 'INSTALL_RATE',\n",
    "       'CO.APPLICANT', 'GUARANTOR', 'PRESENT_RESIDENT', 'REAL_ESTATE',\n",
    "       'PROP_UNKN_NONE', 'AGE', 'OTHER_INSTALL', 'RENT', 'OWN_RES',\n",
    "       'NUM_CREDITS', 'JOB', 'NUM_DEPENDENTS', 'TELEPHONE', 'FOREIGN',\n",
    "       'MaritalStatus_Married', 'MaritalStatus_Single',\n",
    "       'MaritalStatus_Widower', 'MaritalStatus_divorcee', 'CAR_NewCar',\n",
    "       'CAR_UsedCar']]\n",
    "y = df['New_DEFAULT']"
   ]
  },
  {
   "cell_type": "code",
   "execution_count": 41,
   "id": "9235743a",
   "metadata": {},
   "outputs": [],
   "source": [
    "xtrain,xtest,ytrain,ytest = train_test_split(X,y,test_size=0.2,random_state=100)"
   ]
  },
  {
   "cell_type": "code",
   "execution_count": 42,
   "id": "272e37b8",
   "metadata": {},
   "outputs": [
    {
     "name": "stdout",
     "output_type": "stream",
     "text": [
      "(800, 31)\n",
      "(200, 31)\n",
      "(800,)\n",
      "(200,)\n"
     ]
    }
   ],
   "source": [
    "print(xtrain.shape)\n",
    "print(xtest.shape)\n",
    "print(ytrain.shape)\n",
    "print(ytest.shape)"
   ]
  },
  {
   "cell_type": "markdown",
   "id": "b01f7c7c",
   "metadata": {},
   "source": [
    "1. LOGISTIC REGRESSION"
   ]
  },
  {
   "cell_type": "code",
   "execution_count": 43,
   "id": "55e9fe9c",
   "metadata": {},
   "outputs": [
    {
     "name": "stderr",
     "output_type": "stream",
     "text": [
      "C:\\Users\\srivi\\anaconda3\\lib\\site-packages\\sklearn\\linear_model\\_logistic.py:763: ConvergenceWarning: lbfgs failed to converge (status=1):\n",
      "STOP: TOTAL NO. of ITERATIONS REACHED LIMIT.\n",
      "\n",
      "Increase the number of iterations (max_iter) or scale the data as shown in:\n",
      "    https://scikit-learn.org/stable/modules/preprocessing.html\n",
      "Please also refer to the documentation for alternative solver options:\n",
      "    https://scikit-learn.org/stable/modules/linear_model.html#logistic-regression\n",
      "  n_iter_i = _check_optimize_result(\n"
     ]
    },
    {
     "data": {
      "text/plain": [
       "LogisticRegression()"
      ]
     },
     "execution_count": 43,
     "metadata": {},
     "output_type": "execute_result"
    }
   ],
   "source": [
    "logReg = LogisticRegression()\n",
    "logReg.fit(xtrain,ytrain)"
   ]
  },
  {
   "cell_type": "code",
   "execution_count": 44,
   "id": "59dc2db6",
   "metadata": {},
   "outputs": [
    {
     "name": "stdout",
     "output_type": "stream",
     "text": [
      "LOG REG: Test data Scores: \n",
      "\n",
      "[[125  19]\n",
      " [ 27  29]]\n",
      "              precision    recall  f1-score   support\n",
      "\n",
      "           0       0.82      0.87      0.84       144\n",
      "           1       0.60      0.52      0.56        56\n",
      "\n",
      "    accuracy                           0.77       200\n",
      "   macro avg       0.71      0.69      0.70       200\n",
      "weighted avg       0.76      0.77      0.76       200\n",
      "\n"
     ]
    }
   ],
   "source": [
    "# Logistic Regression - test data scores:\n",
    "predictions_test = logReg.predict(xtest)\n",
    "print('LOG REG: Test data Scores: \\n')\n",
    "print(confusion_matrix(ytest,predictions_test))\n",
    "print(classification_report(ytest,predictions_test))"
   ]
  },
  {
   "cell_type": "code",
   "execution_count": 45,
   "id": "234eaefe",
   "metadata": {},
   "outputs": [
    {
     "name": "stdout",
     "output_type": "stream",
     "text": [
      "LOG REG: Train data Scores: \n",
      "\n",
      "[[489  67]\n",
      " [113 131]]\n",
      "              precision    recall  f1-score   support\n",
      "\n",
      "           0       0.81      0.88      0.84       556\n",
      "           1       0.66      0.54      0.59       244\n",
      "\n",
      "    accuracy                           0.78       800\n",
      "   macro avg       0.74      0.71      0.72       800\n",
      "weighted avg       0.77      0.78      0.77       800\n",
      "\n"
     ]
    }
   ],
   "source": [
    "# Logistic Regression - train data scores:\n",
    "predict_train = logReg.predict(xtrain)\n",
    "print('LOG REG: Train data Scores: \\n')\n",
    "print(confusion_matrix(ytrain,predict_train))\n",
    "print(classification_report(ytrain,predict_train))"
   ]
  },
  {
   "cell_type": "markdown",
   "id": "6196fe48",
   "metadata": {},
   "source": [
    "2. DECISION TREE"
   ]
  },
  {
   "cell_type": "code",
   "execution_count": 46,
   "id": "ed1a1b64",
   "metadata": {},
   "outputs": [
    {
     "data": {
      "text/plain": [
       "DecisionTreeClassifier()"
      ]
     },
     "execution_count": 46,
     "metadata": {},
     "output_type": "execute_result"
    }
   ],
   "source": [
    "from sklearn.tree import DecisionTreeClassifier\n",
    "dt = DecisionTreeClassifier()   \n",
    "dt.fit(xtrain,ytrain)"
   ]
  },
  {
   "cell_type": "code",
   "execution_count": 47,
   "id": "e17b28ae",
   "metadata": {},
   "outputs": [
    {
     "name": "stdout",
     "output_type": "stream",
     "text": [
      "DECISION TREE - Default Hyperparameters: Test data scores: \n",
      "\n",
      "[[117  27]\n",
      " [ 31  25]]\n",
      "              precision    recall  f1-score   support\n",
      "\n",
      "           0       0.79      0.81      0.80       144\n",
      "           1       0.48      0.45      0.46        56\n",
      "\n",
      "    accuracy                           0.71       200\n",
      "   macro avg       0.64      0.63      0.63       200\n",
      "weighted avg       0.70      0.71      0.71       200\n",
      "\n"
     ]
    }
   ],
   "source": [
    "predictions_test = dt.predict(xtest)\n",
    "print('DECISION TREE - Default Hyperparameters: Test data scores: \\n')\n",
    "print(confusion_matrix(ytest,predictions_test))\n",
    "print(classification_report(ytest,predictions_test))"
   ]
  },
  {
   "cell_type": "code",
   "execution_count": 48,
   "id": "c125235c",
   "metadata": {},
   "outputs": [
    {
     "name": "stdout",
     "output_type": "stream",
     "text": [
      "DECISION TREE - Default Hyperparameters: Train data scores: \n",
      "\n",
      "[[556   0]\n",
      " [  0 244]]\n",
      "              precision    recall  f1-score   support\n",
      "\n",
      "           0       1.00      1.00      1.00       556\n",
      "           1       1.00      1.00      1.00       244\n",
      "\n",
      "    accuracy                           1.00       800\n",
      "   macro avg       1.00      1.00      1.00       800\n",
      "weighted avg       1.00      1.00      1.00       800\n",
      "\n"
     ]
    }
   ],
   "source": [
    "predictions_train = dt.predict(xtrain)\n",
    "print('DECISION TREE - Default Hyperparameters: Train data scores: \\n')\n",
    "print(confusion_matrix(ytrain,predictions_train))\n",
    "print(classification_report(ytrain,predictions_train))"
   ]
  },
  {
   "cell_type": "markdown",
   "id": "fbb69fa8",
   "metadata": {},
   "source": [
    "DECISION TREE - WITH MAX_DEPTH = 5, CRITERIOR = ENTROPY"
   ]
  },
  {
   "cell_type": "code",
   "execution_count": 49,
   "id": "df797a09",
   "metadata": {},
   "outputs": [
    {
     "name": "stdout",
     "output_type": "stream",
     "text": [
      "DECISION TREE - max depth 5 and entropy: Test data scores: \n",
      "\n",
      "[[131  13]\n",
      " [ 37  19]]\n",
      "              precision    recall  f1-score   support\n",
      "\n",
      "           0       0.78      0.91      0.84       144\n",
      "           1       0.59      0.34      0.43        56\n",
      "\n",
      "    accuracy                           0.75       200\n",
      "   macro avg       0.69      0.62      0.64       200\n",
      "weighted avg       0.73      0.75      0.73       200\n",
      "\n",
      "DECISION TREE  max depth 5 and entropy: Train data scores: \n",
      "\n",
      "[[524  32]\n",
      " [154  90]]\n",
      "              precision    recall  f1-score   support\n",
      "\n",
      "           0       0.77      0.94      0.85       556\n",
      "           1       0.74      0.37      0.49       244\n",
      "\n",
      "    accuracy                           0.77       800\n",
      "   macro avg       0.76      0.66      0.67       800\n",
      "weighted avg       0.76      0.77      0.74       800\n",
      "\n"
     ]
    }
   ],
   "source": [
    "dt = DecisionTreeClassifier(max_depth=5,criterion='entropy')   \n",
    "dt.fit(xtrain,ytrain)\n",
    "predictions_test = dt.predict(xtest)\n",
    "print('DECISION TREE - max depth 5 and entropy: Test data scores: \\n')\n",
    "print(confusion_matrix(ytest,predictions_test))\n",
    "print(classification_report(ytest,predictions_test))\n",
    "predictions_train = dt.predict(xtrain)\n",
    "print('DECISION TREE  max depth 5 and entropy: Train data scores: \\n')\n",
    "print(confusion_matrix(ytrain,predictions_train))\n",
    "print(classification_report(ytrain,predictions_train))"
   ]
  },
  {
   "cell_type": "markdown",
   "id": "57bca6ca",
   "metadata": {},
   "source": [
    "3. RANDOM FOREST"
   ]
  },
  {
   "cell_type": "code",
   "execution_count": 50,
   "id": "746aeafa",
   "metadata": {},
   "outputs": [
    {
     "data": {
      "text/plain": [
       "RandomForestClassifier()"
      ]
     },
     "execution_count": 50,
     "metadata": {},
     "output_type": "execute_result"
    }
   ],
   "source": [
    "from sklearn.ensemble import RandomForestClassifier\n",
    "rf = RandomForestClassifier()\n",
    "rf.fit(xtrain,ytrain)"
   ]
  },
  {
   "cell_type": "code",
   "execution_count": 51,
   "id": "07d483d2",
   "metadata": {},
   "outputs": [
    {
     "name": "stdout",
     "output_type": "stream",
     "text": [
      "RF - Default parameters: Test data scores: \n",
      "\n",
      "[[129  15]\n",
      " [ 34  22]]\n",
      "              precision    recall  f1-score   support\n",
      "\n",
      "           0       0.79      0.90      0.84       144\n",
      "           1       0.59      0.39      0.47        56\n",
      "\n",
      "    accuracy                           0.76       200\n",
      "   macro avg       0.69      0.64      0.66       200\n",
      "weighted avg       0.74      0.76      0.74       200\n",
      "\n"
     ]
    }
   ],
   "source": [
    "predictions_test = rf.predict(xtest)\n",
    "print('RF - Default parameters: Test data scores: \\n')\n",
    "print(confusion_matrix(ytest,predictions_test))\n",
    "print(classification_report(ytest,predictions_test))"
   ]
  },
  {
   "cell_type": "code",
   "execution_count": 52,
   "id": "4410a157",
   "metadata": {},
   "outputs": [
    {
     "name": "stdout",
     "output_type": "stream",
     "text": [
      "RF - Default parameters: Train data scores: \n",
      "\n",
      "[[556   0]\n",
      " [  0 244]]\n",
      "              precision    recall  f1-score   support\n",
      "\n",
      "           0       1.00      1.00      1.00       556\n",
      "           1       1.00      1.00      1.00       244\n",
      "\n",
      "    accuracy                           1.00       800\n",
      "   macro avg       1.00      1.00      1.00       800\n",
      "weighted avg       1.00      1.00      1.00       800\n",
      "\n"
     ]
    }
   ],
   "source": [
    "predictions_train = rf.predict(xtrain)\n",
    "print('RF - Default parameters: Train data scores: \\n')\n",
    "print(confusion_matrix(ytrain,predictions_train))\n",
    "print(classification_report(ytrain,predictions_train))"
   ]
  },
  {
   "cell_type": "markdown",
   "id": "62478dae",
   "metadata": {},
   "source": [
    "RANDOM FOREST - WITH N-ESTIMATORS 52"
   ]
  },
  {
   "cell_type": "code",
   "execution_count": 53,
   "id": "0887fe39",
   "metadata": {},
   "outputs": [
    {
     "name": "stdout",
     "output_type": "stream",
     "text": [
      "RF - Default parameters: Test data scores: \n",
      "\n",
      "[[134  10]\n",
      " [ 33  23]]\n",
      "              precision    recall  f1-score   support\n",
      "\n",
      "           0       0.80      0.93      0.86       144\n",
      "           1       0.70      0.41      0.52        56\n",
      "\n",
      "    accuracy                           0.79       200\n",
      "   macro avg       0.75      0.67      0.69       200\n",
      "weighted avg       0.77      0.79      0.77       200\n",
      "\n",
      "RF - Default parameters: Train data scores: \n",
      "\n",
      "[[556   0]\n",
      " [  0 244]]\n",
      "              precision    recall  f1-score   support\n",
      "\n",
      "           0       1.00      1.00      1.00       556\n",
      "           1       1.00      1.00      1.00       244\n",
      "\n",
      "    accuracy                           1.00       800\n",
      "   macro avg       1.00      1.00      1.00       800\n",
      "weighted avg       1.00      1.00      1.00       800\n",
      "\n"
     ]
    }
   ],
   "source": [
    "rf = RandomForestClassifier(random_state=100, n_estimators=52)\n",
    "rf.fit(xtrain,ytrain)\n",
    "predictions_test = rf.predict(xtest)\n",
    "print('RF - Default parameters: Test data scores: \\n')\n",
    "print(confusion_matrix(ytest,predictions_test))\n",
    "print(classification_report(ytest,predictions_test))\n",
    "predictions_train = rf.predict(xtrain)\n",
    "print('RF - Default parameters: Train data scores: \\n')\n",
    "print(confusion_matrix(ytrain,predictions_train))\n",
    "print(classification_report(ytrain,predictions_train))"
   ]
  },
  {
   "cell_type": "code",
   "execution_count": 54,
   "id": "539cc0b9",
   "metadata": {},
   "outputs": [],
   "source": [
    "#pip install xgboost"
   ]
  },
  {
   "cell_type": "markdown",
   "id": "b9236435",
   "metadata": {},
   "source": [
    "4. XGBOOST"
   ]
  },
  {
   "cell_type": "code",
   "execution_count": 55,
   "id": "bc0f2fa2",
   "metadata": {},
   "outputs": [],
   "source": [
    "import xgboost as xgb\n",
    "xgb = xgb.XGBClassifier()"
   ]
  },
  {
   "cell_type": "code",
   "execution_count": 56,
   "id": "38b19537",
   "metadata": {},
   "outputs": [
    {
     "name": "stdout",
     "output_type": "stream",
     "text": [
      "[13:27:22] WARNING: C:/Users/Administrator/workspace/xgboost-win64_release_1.5.0/src/learner.cc:1115: Starting in XGBoost 1.3.0, the default evaluation metric used with the objective 'binary:logistic' was changed from 'error' to 'logloss'. Explicitly set eval_metric if you'd like to restore the old behavior.\n"
     ]
    },
    {
     "name": "stderr",
     "output_type": "stream",
     "text": [
      "C:\\Users\\srivi\\anaconda3\\lib\\site-packages\\xgboost\\sklearn.py:1224: UserWarning: The use of label encoder in XGBClassifier is deprecated and will be removed in a future release. To remove this warning, do the following: 1) Pass option use_label_encoder=False when constructing XGBClassifier object; and 2) Encode your labels (y) as integers starting with 0, i.e. 0, 1, 2, ..., [num_class - 1].\n",
      "  warnings.warn(label_encoder_deprecation_msg, UserWarning)\n"
     ]
    },
    {
     "data": {
      "text/plain": [
       "XGBClassifier(base_score=0.5, booster='gbtree', colsample_bylevel=1,\n",
       "              colsample_bynode=1, colsample_bytree=1, enable_categorical=False,\n",
       "              gamma=0, gpu_id=-1, importance_type=None,\n",
       "              interaction_constraints='', learning_rate=0.300000012,\n",
       "              max_delta_step=0, max_depth=6, min_child_weight=1, missing=nan,\n",
       "              monotone_constraints='()', n_estimators=100, n_jobs=8,\n",
       "              num_parallel_tree=1, predictor='auto', random_state=0,\n",
       "              reg_alpha=0, reg_lambda=1, scale_pos_weight=1, subsample=1,\n",
       "              tree_method='exact', validate_parameters=1, verbosity=None)"
      ]
     },
     "execution_count": 56,
     "metadata": {},
     "output_type": "execute_result"
    }
   ],
   "source": [
    "xgb.fit(xtrain, ytrain)"
   ]
  },
  {
   "cell_type": "code",
   "execution_count": 57,
   "id": "b847dd16",
   "metadata": {},
   "outputs": [
    {
     "name": "stdout",
     "output_type": "stream",
     "text": [
      "XG Boost - Default parameters: test data scores: \n",
      "\n",
      "[[125  19]\n",
      " [ 30  26]]\n",
      "              precision    recall  f1-score   support\n",
      "\n",
      "           0       0.81      0.87      0.84       144\n",
      "           1       0.58      0.46      0.51        56\n",
      "\n",
      "    accuracy                           0.76       200\n",
      "   macro avg       0.69      0.67      0.68       200\n",
      "weighted avg       0.74      0.76      0.75       200\n",
      "\n"
     ]
    }
   ],
   "source": [
    "predictions_test = xgb.predict(xtest)\n",
    "print('XG Boost - Default parameters: test data scores: \\n')\n",
    "print(confusion_matrix(ytest,predictions_test))\n",
    "print(classification_report(ytest,predictions_test))"
   ]
  },
  {
   "cell_type": "code",
   "execution_count": 58,
   "id": "3de716d0",
   "metadata": {},
   "outputs": [
    {
     "name": "stdout",
     "output_type": "stream",
     "text": [
      "XG Boost - Default parameters: train data scores: \n",
      "\n",
      "[[556   0]\n",
      " [  0 244]]\n",
      "              precision    recall  f1-score   support\n",
      "\n",
      "           0       1.00      1.00      1.00       556\n",
      "           1       1.00      1.00      1.00       244\n",
      "\n",
      "    accuracy                           1.00       800\n",
      "   macro avg       1.00      1.00      1.00       800\n",
      "weighted avg       1.00      1.00      1.00       800\n",
      "\n"
     ]
    }
   ],
   "source": [
    "predictions_train = xgb.predict(xtrain)\n",
    "print('XG Boost - Default parameters: train data scores: \\n')\n",
    "print(confusion_matrix(ytrain,predictions_train))\n",
    "print(classification_report(ytrain,predictions_train))"
   ]
  },
  {
   "cell_type": "markdown",
   "id": "bb3c123b",
   "metadata": {},
   "source": [
    "SUMMARY:\n",
    "Of all the models, RANDOM FOREST - WITH N-ESTIMATORS 52 has the highest accuracy score of 79% for test data."
   ]
  }
 ],
 "metadata": {
  "kernelspec": {
   "display_name": "Python 3",
   "language": "python",
   "name": "python3"
  },
  "language_info": {
   "codemirror_mode": {
    "name": "ipython",
    "version": 3
   },
   "file_extension": ".py",
   "mimetype": "text/x-python",
   "name": "python",
   "nbconvert_exporter": "python",
   "pygments_lexer": "ipython3",
   "version": "3.8.8"
  }
 },
 "nbformat": 4,
 "nbformat_minor": 5
}
